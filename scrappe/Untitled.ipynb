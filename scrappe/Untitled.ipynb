{
 "cells": [
  {
   "cell_type": "code",
   "execution_count": 8,
   "id": "2637621a-9855-4486-8590-b370dbfab49f",
   "metadata": {},
   "outputs": [
    {
     "name": "stdout",
     "output_type": "stream",
     "text": [
      "Latitude: 12.0753083, Longitude: -1.6880314\n"
     ]
    }
   ],
   "source": [
    "from geopy.geocoders import Nominatim\n",
    "\n",
    "# Initialiser le géocodeur\n",
    "geolocator = Nominatim(user_agent=\"myGeocoder\")\n",
    "\n",
    "# Chercher un lieu (par exemple, Abidjan)\n",
    "location = geolocator.geocode(\"Burkina faso, Burkina faso\")\n",
    "\n",
    "# Afficher les coordonnées\n",
    "print(f\"Latitude: {location.latitude}, Longitude: {location.longitude}\")"
   ]
  },
  {
   "cell_type": "code",
   "execution_count": 17,
   "id": "e61e8553-ce1c-4737-8b9e-624133f13f5c",
   "metadata": {},
   "outputs": [
    {
     "data": {
      "text/plain": [
       "Location(Burkina Faso, (12.0753083, -1.6880314, 0.0))"
      ]
     },
     "execution_count": 17,
     "metadata": {},
     "output_type": "execute_result"
    }
   ],
   "source": [
    "location"
   ]
  },
  {
   "cell_type": "code",
   "execution_count": 18,
   "id": "81ac3c70-2ee4-4170-a2a9-34cc2309bb93",
   "metadata": {},
   "outputs": [],
   "source": [
    "reg = \"\"\"Burkina Faso\n",
    "Boucle du Mouhoun\n",
    "Cascades\n",
    "Centre\n",
    "Centre-Est\n",
    "Centre-Nord\n",
    "Centre-Ouest\n",
    "Centre-Sud\n",
    "Est\n",
    "Hauts-Bassins\n",
    "Nord\n",
    "Plateau Central\n",
    "Sahel\n",
    "Sud-Ouest\"\"\".split(\"\\n\")"
   ]
  },
  {
   "cell_type": "code",
   "execution_count": 19,
   "id": "21ba07b2-dea0-48a1-9231-089579c44a2d",
   "metadata": {},
   "outputs": [],
   "source": [
    "data = {\"région\":[],\"latitude\":[], \"longitude\":[]}\n",
    "import time\n",
    "def getLonLat(r):\n",
    "    # Chercher un lieu (par exemple, Abidjan)\n",
    "    location = geolocator.geocode(f\"{r}, Burkina faso\")\n",
    "    \n",
    "    # Afficher les coordonnées\n",
    "    try:\n",
    "        lon = location.longitude\n",
    "        lat = location.latitude\n",
    "        data[\"région\"].append(r)\n",
    "        data[\"latitude\"].append(lat)\n",
    "        data[\"longitude\"].append(lon)\n",
    "        print(f\"Region : {r}, Latitude: {location.latitude}, Longitude: {location.longitude}\")\n",
    "    except:\n",
    "        print(f\"No data for {r}\")\n",
    "    time.sleep(60)\n",
    "\n",
    "    "
   ]
  },
  {
   "cell_type": "code",
   "execution_count": 20,
   "id": "5eccba88-9e71-4e4b-8ba9-882bdec61bd6",
   "metadata": {},
   "outputs": [
    {
     "name": "stdout",
     "output_type": "stream",
     "text": [
      "Region : Burkina Faso,, Latitude: 12.0753083, Longitude: -1.6880314\n",
      "Region : Boucle du Mouhoun, Latitude: 12.4777805, Longitude: -3.5879571310124456\n",
      "Region : Cascades, Latitude: 10.30718125, Longitude: -4.435189320350396\n",
      "Region : Centre, Latitude: 12.36732, Longitude: -1.5430869129979032\n",
      "Region : Centre-Est, Latitude: 11.734933000000002, Longitude: -0.2921055677472593\n",
      "Region : Centre-Nord, Latitude: 13.238710000000001, Longitude: -1.0349831514084509\n",
      "Region : Centre-Ouest, Latitude: 11.9067933, Longitude: -2.3044800659164646\n",
      "Region : Centre-Sud, Latitude: 11.5833646, Longitude: -1.0556300580745341\n",
      "Region : Est, Latitude: 12.255555, Longitude: 1.0095763618883151\n",
      "Region : Hauts-Bassins, Latitude: 11.389027500000001, Longitude: -4.041364986476256\n",
      "Region : Nord, Latitude: 13.45911, Longitude: -2.2496367403016495\n",
      "Region : Plateau Central, Latitude: 12.40414, Longitude: -0.8864160224616928\n",
      "Region : Sahel, Latitude: 14.0279165, Longitude: -0.7717775666263393\n",
      "Region : Sud-Ouest, Latitude: 10.38692085, Longitude: -3.283188627811005\n"
     ]
    }
   ],
   "source": [
    "for r in reg:\n",
    "    getLonLat(r)"
   ]
  },
  {
   "cell_type": "code",
   "execution_count": 23,
   "id": "0647f995-498d-4b01-b750-2b5971dde88f",
   "metadata": {},
   "outputs": [
    {
     "data": {
      "text/plain": [
       "{'région': ['Burkina Faso,',\n",
       "  'Boucle du Mouhoun',\n",
       "  'Cascades',\n",
       "  'Centre',\n",
       "  'Centre-Est',\n",
       "  'Centre-Nord',\n",
       "  'Centre-Ouest',\n",
       "  'Centre-Sud',\n",
       "  'Est',\n",
       "  'Hauts-Bassins',\n",
       "  'Nord',\n",
       "  'Plateau Central',\n",
       "  'Sahel',\n",
       "  'Sud-Ouest'],\n",
       " 'latitude': [12.0753083,\n",
       "  12.4777805,\n",
       "  10.30718125,\n",
       "  12.36732,\n",
       "  11.734933000000002,\n",
       "  13.238710000000001,\n",
       "  11.9067933,\n",
       "  11.5833646,\n",
       "  12.255555,\n",
       "  11.389027500000001,\n",
       "  13.45911,\n",
       "  12.40414,\n",
       "  14.0279165,\n",
       "  10.38692085],\n",
       " 'longitude': [-1.6880314,\n",
       "  -3.5879571310124456,\n",
       "  -4.435189320350396,\n",
       "  -1.5430869129979032,\n",
       "  -0.2921055677472593,\n",
       "  -1.0349831514084509,\n",
       "  -2.3044800659164646,\n",
       "  -1.0556300580745341,\n",
       "  1.0095763618883151,\n",
       "  -4.041364986476256,\n",
       "  -2.2496367403016495,\n",
       "  -0.8864160224616928,\n",
       "  -0.7717775666263393,\n",
       "  -3.283188627811005]}"
      ]
     },
     "execution_count": 23,
     "metadata": {},
     "output_type": "execute_result"
    }
   ],
   "source": [
    "pd.DataFrame.from_dict(data)"
   ]
  },
  {
   "cell_type": "code",
   "execution_count": null,
   "id": "7c46031c-37c0-4f3b-bea2-60691073e82b",
   "metadata": {},
   "outputs": [],
   "source": []
  }
 ],
 "metadata": {
  "kernelspec": {
   "display_name": "Python 3 (ipykernel)",
   "language": "python",
   "name": "python3"
  },
  "language_info": {
   "codemirror_mode": {
    "name": "ipython",
    "version": 3
   },
   "file_extension": ".py",
   "mimetype": "text/x-python",
   "name": "python",
   "nbconvert_exporter": "python",
   "pygments_lexer": "ipython3",
   "version": "3.11.10"
  }
 },
 "nbformat": 4,
 "nbformat_minor": 5
}
