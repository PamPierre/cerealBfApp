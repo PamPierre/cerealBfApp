{
 "cells": [
  {
   "cell_type": "code",
   "execution_count": 5,
   "id": "2461bb1d-992f-4c9d-9c90-a0b6f9ad57eb",
   "metadata": {},
   "outputs": [
    {
     "name": "stderr",
     "output_type": "stream",
     "text": [
      "2024-11-16 13:46:54.515 Thread 'MainThread': missing ScriptRunContext! This warning can be ignored when running in bare mode.\n",
      "2024-11-16 13:46:54.529 Thread 'MainThread': missing ScriptRunContext! This warning can be ignored when running in bare mode.\n",
      "2024-11-16 13:46:54.548 Thread 'MainThread': missing ScriptRunContext! This warning can be ignored when running in bare mode.\n",
      "2024-11-16 13:46:54.551 Thread 'MainThread': missing ScriptRunContext! This warning can be ignored when running in bare mode.\n",
      "2024-11-16 13:46:57.352 Thread 'MainThread': missing ScriptRunContext! This warning can be ignored when running in bare mode.\n",
      "2024-11-16 13:46:57.361 Thread 'MainThread': missing ScriptRunContext! This warning can be ignored when running in bare mode.\n"
     ]
    },
    {
     "data": {
      "text/plain": [
       "DeltaGenerator()"
      ]
     },
     "execution_count": 5,
     "metadata": {},
     "output_type": "execute_result"
    }
   ],
   "source": [
    "import streamlit as st\n",
    "import pandas as pd\n",
    "import plotly.figure_factory as ff\n",
    "st.write(\"\"\"\n",
    "# My first app\n",
    "Hello *Ade*\n",
    "\"\"\")\n",
    "\n",
    "df = pd.read_csv(\"data/donnée_arrachide.csv\")\n",
    "\n",
    "df = df.rename(columns={\"Arachide produit\":\"Production\",\"Arachide Supperficie\":\"Superficie\",\"Pluie par année\":\"Pluie\"})\n",
    "for k in df.keys():\n",
    "  df[k] = df[k].apply(lambda v : int(str(v).replace(\" \",\"\").replace(\"u202f\",\"\")))\n",
    "st.line_chart(df)"
   ]
  },
  {
   "cell_type": "code",
   "execution_count": 4,
   "id": "da785d91-b0b1-4f4f-bbb8-7887c8514814",
   "metadata": {},
   "outputs": [
    {
     "name": "stderr",
     "output_type": "stream",
     "text": [
      "2024-11-16 13:14:40.055 Thread 'MainThread': missing ScriptRunContext! This warning can be ignored when running in bare mode.\n",
      "2024-11-16 13:14:40.056 Thread 'MainThread': missing ScriptRunContext! This warning can be ignored when running in bare mode.\n"
     ]
    },
    {
     "data": {
      "text/plain": [
       "DeltaGenerator()"
      ]
     },
     "execution_count": 4,
     "metadata": {},
     "output_type": "execute_result"
    }
   ],
   "source": []
  },
  {
   "cell_type": "code",
   "execution_count": 4,
   "id": "fe5eda24-0a1b-49ba-a6b9-4d652bf8e0b3",
   "metadata": {},
   "outputs": [
    {
     "data": {
      "text/plain": [
       "Index(['Année', 'Production', 'Superficie', 'Pluie'], dtype='object')"
      ]
     },
     "execution_count": 4,
     "metadata": {},
     "output_type": "execute_result"
    }
   ],
   "source": [
    "df.keys()"
   ]
  },
  {
   "cell_type": "code",
   "execution_count": 13,
   "id": "0fd931b2-b395-48da-9fd9-63a8770b371a",
   "metadata": {},
   "outputs": [
    {
     "ename": "ImportError",
     "evalue": "FigureFactory.create_distplot requires scipy",
     "output_type": "error",
     "traceback": [
      "\u001b[0;31m---------------------------------------------------------------------------\u001b[0m",
      "\u001b[0;31mImportError\u001b[0m                               Traceback (most recent call last)",
      "Cell \u001b[0;32mIn[13], line 4\u001b[0m\n\u001b[1;32m      1\u001b[0m hist_data \u001b[38;5;241m=\u001b[39m df[[\u001b[38;5;124m\"\u001b[39m\u001b[38;5;124mAnnée\u001b[39m\u001b[38;5;124m\"\u001b[39m,\u001b[38;5;124m\"\u001b[39m\u001b[38;5;124mPluie\u001b[39m\u001b[38;5;124m\"\u001b[39m]]\n\u001b[1;32m      3\u001b[0m \u001b[38;5;66;03m# Create distplot with custom bin_size\u001b[39;00m\n\u001b[0;32m----> 4\u001b[0m fig \u001b[38;5;241m=\u001b[39m ff\u001b[38;5;241m.\u001b[39mcreate_distplot([hist_data[\u001b[38;5;124m\"\u001b[39m\u001b[38;5;124mPluie\u001b[39m\u001b[38;5;124m\"\u001b[39m]\u001b[38;5;241m.\u001b[39mvalues\u001b[38;5;241m.\u001b[39mtolist()],group_labels \u001b[38;5;241m=\u001b[39m [hist_data[\u001b[38;5;124m\"\u001b[39m\u001b[38;5;124mAnnée\u001b[39m\u001b[38;5;124m\"\u001b[39m]\u001b[38;5;241m.\u001b[39mvalues\u001b[38;5;241m.\u001b[39mtolist()])\n",
      "File \u001b[0;32m~/anaconda3/envs/dataApp/lib/python3.12/site-packages/plotly/figure_factory/_distplot.py:178\u001b[0m, in \u001b[0;36mcreate_distplot\u001b[0;34m(hist_data, group_labels, bin_size, curve_type, colors, rug_text, histnorm, show_hist, show_curve, show_rug)\u001b[0m\n\u001b[1;32m    175\u001b[0m \u001b[38;5;28;01mif\u001b[39;00m rug_text \u001b[38;5;129;01mis\u001b[39;00m \u001b[38;5;28;01mNone\u001b[39;00m:\n\u001b[1;32m    176\u001b[0m     rug_text \u001b[38;5;241m=\u001b[39m []\n\u001b[0;32m--> 178\u001b[0m validate_distplot(hist_data, curve_type)\n\u001b[1;32m    179\u001b[0m utils\u001b[38;5;241m.\u001b[39mvalidate_equal_length(hist_data, group_labels)\n\u001b[1;32m    181\u001b[0m \u001b[38;5;28;01mif\u001b[39;00m \u001b[38;5;28misinstance\u001b[39m(bin_size, (\u001b[38;5;28mfloat\u001b[39m, \u001b[38;5;28mint\u001b[39m)):\n",
      "File \u001b[0;32m~/anaconda3/envs/dataApp/lib/python3.12/site-packages/plotly/figure_factory/_distplot.py:47\u001b[0m, in \u001b[0;36mvalidate_distplot\u001b[0;34m(hist_data, curve_type)\u001b[0m\n\u001b[1;32m     42\u001b[0m     \u001b[38;5;28;01mraise\u001b[39;00m exceptions\u001b[38;5;241m.\u001b[39mPlotlyError(\n\u001b[1;32m     43\u001b[0m         \u001b[38;5;124m\"\u001b[39m\u001b[38;5;124mcurve_type must be defined as \u001b[39m\u001b[38;5;124m\"\u001b[39m \u001b[38;5;124m\"\u001b[39m\u001b[38;5;124m'\u001b[39m\u001b[38;5;124mkde\u001b[39m\u001b[38;5;124m'\u001b[39m\u001b[38;5;124m or \u001b[39m\u001b[38;5;124m'\u001b[39m\u001b[38;5;124mnormal\u001b[39m\u001b[38;5;124m'\u001b[39m\u001b[38;5;124m\"\u001b[39m\n\u001b[1;32m     44\u001b[0m     )\n\u001b[1;32m     46\u001b[0m \u001b[38;5;28;01mif\u001b[39;00m \u001b[38;5;129;01mnot\u001b[39;00m scipy:\n\u001b[0;32m---> 47\u001b[0m     \u001b[38;5;28;01mraise\u001b[39;00m \u001b[38;5;167;01mImportError\u001b[39;00m(\u001b[38;5;124m\"\u001b[39m\u001b[38;5;124mFigureFactory.create_distplot requires scipy\u001b[39m\u001b[38;5;124m\"\u001b[39m)\n",
      "\u001b[0;31mImportError\u001b[0m: FigureFactory.create_distplot requires scipy"
     ]
    }
   ],
   "source": [
    "\n",
    "hist_data = df[[\"Année\",\"Pluie\"]]\n",
    "\n",
    "# Create distplot with custom bin_size\n",
    "fig = ff.create_distplot([hist_data[\"Pluie\"].values.tolist()],group_labels = [hist_data[\"Année\"].values.tolist()])\n"
   ]
  },
  {
   "cell_type": "code",
   "execution_count": 18,
   "id": "d6a172e8-8d4c-4217-829b-5b48bbe953b1",
   "metadata": {},
   "outputs": [
    {
     "ename": "ImportError",
     "evalue": "FigureFactory.create_distplot requires scipy",
     "output_type": "error",
     "traceback": [
      "\u001b[0;31m---------------------------------------------------------------------------\u001b[0m",
      "\u001b[0;31mImportError\u001b[0m                               Traceback (most recent call last)",
      "Cell \u001b[0;32mIn[18], line 16\u001b[0m\n\u001b[1;32m     13\u001b[0m group_labels \u001b[38;5;241m=\u001b[39m [\u001b[38;5;124m'\u001b[39m\u001b[38;5;124mGroup 1\u001b[39m\u001b[38;5;124m'\u001b[39m, \u001b[38;5;124m'\u001b[39m\u001b[38;5;124mGroup 2\u001b[39m\u001b[38;5;124m'\u001b[39m, \u001b[38;5;124m'\u001b[39m\u001b[38;5;124mGroup 3\u001b[39m\u001b[38;5;124m'\u001b[39m]\n\u001b[1;32m     15\u001b[0m \u001b[38;5;66;03m# Create distplot with custom bin_size\u001b[39;00m\n\u001b[0;32m---> 16\u001b[0m fig \u001b[38;5;241m=\u001b[39m ff\u001b[38;5;241m.\u001b[39mcreate_distplot(\n\u001b[1;32m     17\u001b[0m         hist_data, group_labels, bin_size\u001b[38;5;241m=\u001b[39m[\u001b[38;5;241m.1\u001b[39m, \u001b[38;5;241m.25\u001b[39m, \u001b[38;5;241m.5\u001b[39m])\n",
      "File \u001b[0;32m~/anaconda3/envs/dataApp/lib/python3.12/site-packages/plotly/figure_factory/_distplot.py:178\u001b[0m, in \u001b[0;36mcreate_distplot\u001b[0;34m(hist_data, group_labels, bin_size, curve_type, colors, rug_text, histnorm, show_hist, show_curve, show_rug)\u001b[0m\n\u001b[1;32m    175\u001b[0m \u001b[38;5;28;01mif\u001b[39;00m rug_text \u001b[38;5;129;01mis\u001b[39;00m \u001b[38;5;28;01mNone\u001b[39;00m:\n\u001b[1;32m    176\u001b[0m     rug_text \u001b[38;5;241m=\u001b[39m []\n\u001b[0;32m--> 178\u001b[0m validate_distplot(hist_data, curve_type)\n\u001b[1;32m    179\u001b[0m utils\u001b[38;5;241m.\u001b[39mvalidate_equal_length(hist_data, group_labels)\n\u001b[1;32m    181\u001b[0m \u001b[38;5;28;01mif\u001b[39;00m \u001b[38;5;28misinstance\u001b[39m(bin_size, (\u001b[38;5;28mfloat\u001b[39m, \u001b[38;5;28mint\u001b[39m)):\n",
      "File \u001b[0;32m~/anaconda3/envs/dataApp/lib/python3.12/site-packages/plotly/figure_factory/_distplot.py:47\u001b[0m, in \u001b[0;36mvalidate_distplot\u001b[0;34m(hist_data, curve_type)\u001b[0m\n\u001b[1;32m     42\u001b[0m     \u001b[38;5;28;01mraise\u001b[39;00m exceptions\u001b[38;5;241m.\u001b[39mPlotlyError(\n\u001b[1;32m     43\u001b[0m         \u001b[38;5;124m\"\u001b[39m\u001b[38;5;124mcurve_type must be defined as \u001b[39m\u001b[38;5;124m\"\u001b[39m \u001b[38;5;124m\"\u001b[39m\u001b[38;5;124m'\u001b[39m\u001b[38;5;124mkde\u001b[39m\u001b[38;5;124m'\u001b[39m\u001b[38;5;124m or \u001b[39m\u001b[38;5;124m'\u001b[39m\u001b[38;5;124mnormal\u001b[39m\u001b[38;5;124m'\u001b[39m\u001b[38;5;124m\"\u001b[39m\n\u001b[1;32m     44\u001b[0m     )\n\u001b[1;32m     46\u001b[0m \u001b[38;5;28;01mif\u001b[39;00m \u001b[38;5;129;01mnot\u001b[39;00m scipy:\n\u001b[0;32m---> 47\u001b[0m     \u001b[38;5;28;01mraise\u001b[39;00m \u001b[38;5;167;01mImportError\u001b[39;00m(\u001b[38;5;124m\"\u001b[39m\u001b[38;5;124mFigureFactory.create_distplot requires scipy\u001b[39m\u001b[38;5;124m\"\u001b[39m)\n",
      "\u001b[0;31mImportError\u001b[0m: FigureFactory.create_distplot requires scipy"
     ]
    }
   ],
   "source": [
    "import streamlit as st\n",
    "import numpy as np\n",
    "import plotly.figure_factory as ff\n",
    "\n",
    "# Add histogram data\n",
    "x1 = np.random.randn(200) - 2\n",
    "x2 = np.random.randn(200)\n",
    "x3 = np.random.randn(200) + 2\n",
    "\n",
    "# Group data together\n",
    "hist_data = [x1, x2, x3]\n",
    "\n",
    "group_labels = ['Group 1', 'Group 2', 'Group 3']\n",
    "\n",
    "# Create distplot with custom bin_size\n",
    "fig = ff.create_distplot(\n",
    "        hist_data, group_labels, bin_size=[.1, .25, .5])\n"
   ]
  },
  {
   "cell_type": "code",
   "execution_count": null,
   "id": "f11ce054-1b1e-4c0d-9405-49ea5e5364fd",
   "metadata": {},
   "outputs": [],
   "source": []
  }
 ],
 "metadata": {
  "kernelspec": {
   "display_name": "Python 3 (ipykernel)",
   "language": "python",
   "name": "python3"
  },
  "language_info": {
   "codemirror_mode": {
    "name": "ipython",
    "version": 3
   },
   "file_extension": ".py",
   "mimetype": "text/x-python",
   "name": "python",
   "nbconvert_exporter": "python",
   "pygments_lexer": "ipython3",
   "version": "3.12.7"
  }
 },
 "nbformat": 4,
 "nbformat_minor": 5
}
