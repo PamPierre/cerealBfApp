{
 "cells": [
  {
   "cell_type": "code",
   "execution_count": 15,
   "id": "5c5e7cba-8120-45a9-a2fa-8d44b171508e",
   "metadata": {},
   "outputs": [],
   "source": [
    "import requests as re\n",
    "from bs4 import BeautifulSoup\n",
    "import pandas as pd\n",
    "import time\n",
    "import random"
   ]
  },
  {
   "cell_type": "code",
   "execution_count": 16,
   "id": "3702a56e-e4d0-4786-83c4-5d02b4740c31",
   "metadata": {},
   "outputs": [
    {
     "data": {
      "text/plain": [
       "200"
      ]
     },
     "execution_count": 16,
     "metadata": {},
     "output_type": "execute_result"
    }
   ],
   "source": []
  },
  {
   "cell_type": "code",
   "execution_count": 17,
   "id": "438a0e67-6836-42c9-821d-b8d80a20a69f",
   "metadata": {},
   "outputs": [
    {
     "name": "stdout",
     "output_type": "stream",
     "text": [
      "https://www.meteoburkina.bf/stations/?page=1 scrapped and nCells are 50\n",
      "https://www.meteoburkina.bf/stations/?page=2 scrapped and nCells are 100\n",
      "https://www.meteoburkina.bf/stations/?page=3 scrapped and nCells are 150\n",
      "https://www.meteoburkina.bf/stations/?page=4 scrapped and nCells are 200\n",
      "https://www.meteoburkina.bf/stations/?page=5 scrapped and nCells are 250\n",
      "https://www.meteoburkina.bf/stations/?page=6 scrapped and nCells are 252\n"
     ]
    }
   ],
   "source": [
    "# Extract data from each row\n",
    "data = []\n",
    "for i in range(1, 7):\n",
    "    url = f\"https://www.meteoburkina.bf/stations/?page={i}\"\n",
    "    resultat = re.get(url)\n",
    "    if resultat.status_code==200:\n",
    "        soupAll = BeautifulSoup(resultat.content, 'lxml')\n",
    "        soup = soupAll.find(\"table\").find(\"tbody\")\n",
    "        # Find all table rows\n",
    "        table_rows = soup.find_all('tr')\n",
    "        for row in table_rows:\n",
    "            # Extract text from each table cell (excluding anchor tags)\n",
    "            cells = [str(td.text.strip()) for td in row.find_all('td') if not td.find('a')]+[row.find(\"a\")[\"href\"]]\n",
    "            data.append(cells)\n",
    "        print(f\"{url} scrapped and nCells are {len(data)}\")\n",
    "    else:\n",
    "        print(resultat.status_code)\n",
    "    time.sleep(random.randint(20,80))\n",
    "\n",
    "# Create column names based on the first row\n",
    "columns = [c.text.strip().split(\"\\n\")[-1] for c in soupAll.find_all(\"th\",{\"class\": \"orderable\"})]#[th.text.strip() for th in table_rows[0].find_all('td')]\n",
    "\n",
    "df = pd.DataFrame(data, columns=columns)"
   ]
  },
  {
   "cell_type": "code",
   "execution_count": 20,
   "id": "87906e40-3a74-485a-8485-ab71d08b18eb",
   "metadata": {},
   "outputs": [],
   "source": [
    "# Create a pandas DataFrame\n"
   ]
  },
  {
   "cell_type": "code",
   "execution_count": 19,
   "id": "102e3814-ac41-441f-9c8a-5353c3efad86",
   "metadata": {},
   "outputs": [],
   "source": [
    "df.to_csv(\"../data/station_meteo.csv\")"
   ]
  },
  {
   "cell_type": "code",
   "execution_count": 24,
   "id": "2efd1cf6-a749-46e1-892e-8f03c1dabd42",
   "metadata": {},
   "outputs": [
    {
     "data": {
      "text/html": [
       "<div>\n",
       "<style scoped>\n",
       "    .dataframe tbody tr th:only-of-type {\n",
       "        vertical-align: middle;\n",
       "    }\n",
       "\n",
       "    .dataframe tbody tr th {\n",
       "        vertical-align: top;\n",
       "    }\n",
       "\n",
       "    .dataframe thead th {\n",
       "        text-align: right;\n",
       "    }\n",
       "</style>\n",
       "<table border=\"1\" class=\"dataframe\">\n",
       "  <thead>\n",
       "    <tr style=\"text-align: right;\">\n",
       "      <th></th>\n",
       "      <th>Nom</th>\n",
       "      <th>Type</th>\n",
       "      <th>Identificateur WIGOS</th>\n",
       "      <th>Latitude</th>\n",
       "      <th>Longitude</th>\n",
       "      <th>Elevation</th>\n",
       "      <th>Detail url</th>\n",
       "    </tr>\n",
       "  </thead>\n",
       "  <tbody>\n",
       "    <tr>\n",
       "      <th>14</th>\n",
       "      <td>Banfora</td>\n",
       "      <td>Land (fixed)</td>\n",
       "      <td>0-854-0-005|primary</td>\n",
       "      <td>10,636</td>\n",
       "      <td>-4,761</td>\n",
       "      <td>305</td>\n",
       "      <td>https://www.meteoburkina.bf/stations/15</td>\n",
       "    </tr>\n",
       "  </tbody>\n",
       "</table>\n",
       "</div>"
      ],
      "text/plain": [
       "        Nom          Type Identificateur WIGOS Latitude Longitude Elevation  \\\n",
       "14  Banfora  Land (fixed)  0-854-0-005|primary   10,636    -4,761       305   \n",
       "\n",
       "                                 Detail url  \n",
       "14  https://www.meteoburkina.bf/stations/15  "
      ]
     },
     "execution_count": 24,
     "metadata": {},
     "output_type": "execute_result"
    }
   ],
   "source": [
    "df[df[\"Nom\"].str.contains(\"banfora\",case=False)]"
   ]
  },
  {
   "cell_type": "code",
   "execution_count": 26,
   "id": "73bfcaaf-37c0-4a1b-a71d-76ed884f09d3",
   "metadata": {},
   "outputs": [],
   "source": [
    "pluie_DF = pd.read_csv(\"../data/pluie_par_jour.csv\")"
   ]
  },
  {
   "cell_type": "code",
   "execution_count": 31,
   "id": "c1c0efaa-115b-4d03-a650-8cc847a4e868",
   "metadata": {},
   "outputs": [],
   "source": [
    "reg = list(pluie_DF.keys())[1:]"
   ]
  },
  {
   "cell_type": "code",
   "execution_count": 34,
   "id": "f96844b5-d447-4437-9471-3c043f484b21",
   "metadata": {},
   "outputs": [],
   "source": [
    "pluie_DF = pluie_DF.rename(columns = {'Année':'Date'})"
   ]
  },
  {
   "cell_type": "code",
   "execution_count": 48,
   "id": "52820fe6-89ca-4f14-8b5b-687c77db0859",
   "metadata": {},
   "outputs": [],
   "source": [
    "dfGlob = []\n",
    "for r in reg:\n",
    "    df = pd.DataFrame(columns = [\"Date\", \"région\",\"Pluie par année\"])\n",
    "    df[\"Date\"] = pluie_DF[\"Date\"]\n",
    "    df[\"région\"] = df[\"Date\"].apply(lambda v: r)\n",
    "    df[\"Pluie par année\"] = pluie_DF[r].apply(lambda v : v)\n",
    "    dfGlob.append(df)"
   ]
  },
  {
   "cell_type": "code",
   "execution_count": 67,
   "id": "ab81dbfa-cee9-4ca1-a9d3-d3403f9dadfb",
   "metadata": {},
   "outputs": [],
   "source": [
    "newDf = pd.concat(dfGlob)"
   ]
  },
  {
   "cell_type": "code",
   "execution_count": 68,
   "id": "38841c99-98dd-4a54-8cd2-ac78bf71a535",
   "metadata": {},
   "outputs": [
    {
     "data": {
      "text/html": [
       "<div>\n",
       "<style scoped>\n",
       "    .dataframe tbody tr th:only-of-type {\n",
       "        vertical-align: middle;\n",
       "    }\n",
       "\n",
       "    .dataframe tbody tr th {\n",
       "        vertical-align: top;\n",
       "    }\n",
       "\n",
       "    .dataframe thead th {\n",
       "        text-align: right;\n",
       "    }\n",
       "</style>\n",
       "<table border=\"1\" class=\"dataframe\">\n",
       "  <thead>\n",
       "    <tr style=\"text-align: right;\">\n",
       "      <th></th>\n",
       "      <th>Date</th>\n",
       "      <th>région</th>\n",
       "      <th>Pluie par année</th>\n",
       "    </tr>\n",
       "  </thead>\n",
       "  <tbody>\n",
       "    <tr>\n",
       "      <th>0</th>\n",
       "      <td>1996</td>\n",
       "      <td>Hauts-Bassins</td>\n",
       "      <td>84</td>\n",
       "    </tr>\n",
       "    <tr>\n",
       "      <th>1</th>\n",
       "      <td>1997</td>\n",
       "      <td>Hauts-Bassins</td>\n",
       "      <td>86</td>\n",
       "    </tr>\n",
       "    <tr>\n",
       "      <th>2</th>\n",
       "      <td>1998</td>\n",
       "      <td>Hauts-Bassins</td>\n",
       "      <td>93</td>\n",
       "    </tr>\n",
       "    <tr>\n",
       "      <th>3</th>\n",
       "      <td>1999</td>\n",
       "      <td>Hauts-Bassins</td>\n",
       "      <td>99</td>\n",
       "    </tr>\n",
       "    <tr>\n",
       "      <th>4</th>\n",
       "      <td>2000</td>\n",
       "      <td>Hauts-Bassins</td>\n",
       "      <td>95</td>\n",
       "    </tr>\n",
       "    <tr>\n",
       "      <th>...</th>\n",
       "      <td>...</td>\n",
       "      <td>...</td>\n",
       "      <td>...</td>\n",
       "    </tr>\n",
       "    <tr>\n",
       "      <th>22</th>\n",
       "      <td>2018</td>\n",
       "      <td>Burkina Faso</td>\n",
       "      <td>1007</td>\n",
       "    </tr>\n",
       "    <tr>\n",
       "      <th>23</th>\n",
       "      <td>2019</td>\n",
       "      <td>Burkina Faso</td>\n",
       "      <td>1025</td>\n",
       "    </tr>\n",
       "    <tr>\n",
       "      <th>24</th>\n",
       "      <td>2020</td>\n",
       "      <td>Burkina Faso</td>\n",
       "      <td>955</td>\n",
       "    </tr>\n",
       "    <tr>\n",
       "      <th>25</th>\n",
       "      <td>2021</td>\n",
       "      <td>Burkina Faso</td>\n",
       "      <td>993</td>\n",
       "    </tr>\n",
       "    <tr>\n",
       "      <th>26</th>\n",
       "      <td>2022</td>\n",
       "      <td>Burkina Faso</td>\n",
       "      <td>1000</td>\n",
       "    </tr>\n",
       "  </tbody>\n",
       "</table>\n",
       "<p>378 rows × 3 columns</p>\n",
       "</div>"
      ],
      "text/plain": [
       "    Date         région  Pluie par année\n",
       "0   1996  Hauts-Bassins               84\n",
       "1   1997  Hauts-Bassins               86\n",
       "2   1998  Hauts-Bassins               93\n",
       "3   1999  Hauts-Bassins               99\n",
       "4   2000  Hauts-Bassins               95\n",
       "..   ...            ...              ...\n",
       "22  2018   Burkina Faso             1007\n",
       "23  2019   Burkina Faso             1025\n",
       "24  2020   Burkina Faso              955\n",
       "25  2021   Burkina Faso              993\n",
       "26  2022   Burkina Faso             1000\n",
       "\n",
       "[378 rows x 3 columns]"
      ]
     },
     "execution_count": 68,
     "metadata": {},
     "output_type": "execute_result"
    }
   ],
   "source": [
    "newDf"
   ]
  },
  {
   "cell_type": "code",
   "execution_count": 52,
   "id": "99df5744-e09c-42d7-8e1f-c35e1d278f5b",
   "metadata": {},
   "outputs": [],
   "source": [
    "dfAll = pd.read_csv(\"../data/ADE_Production Arachide - SUPERFICIE_PRODUCTION.csv\")"
   ]
  },
  {
   "cell_type": "code",
   "execution_count": 59,
   "id": "4dbe52e2-d23e-421e-93d4-f4a56cf43ef3",
   "metadata": {},
   "outputs": [],
   "source": [
    "df_superficie = dfAll[dfAll[\"indicateur\"]==\"Superficie\"]\n",
    "df_superficie = df_superficie.rename(columns = {'Value':'Superficie'})"
   ]
  },
  {
   "cell_type": "code",
   "execution_count": 77,
   "id": "b6e3e6cc-d9a2-4905-b90a-83d8f39073d8",
   "metadata": {},
   "outputs": [
    {
     "data": {
      "text/html": [
       "<div>\n",
       "<style scoped>\n",
       "    .dataframe tbody tr th:only-of-type {\n",
       "        vertical-align: middle;\n",
       "    }\n",
       "\n",
       "    .dataframe tbody tr th {\n",
       "        vertical-align: top;\n",
       "    }\n",
       "\n",
       "    .dataframe thead th {\n",
       "        text-align: right;\n",
       "    }\n",
       "</style>\n",
       "<table border=\"1\" class=\"dataframe\">\n",
       "  <thead>\n",
       "    <tr style=\"text-align: right;\">\n",
       "      <th></th>\n",
       "      <th>indicateur</th>\n",
       "      <th>région</th>\n",
       "      <th>céréales</th>\n",
       "      <th>Unit</th>\n",
       "      <th>Date</th>\n",
       "      <th>Production</th>\n",
       "    </tr>\n",
       "  </thead>\n",
       "  <tbody>\n",
       "    <tr>\n",
       "      <th>98</th>\n",
       "      <td>Production</td>\n",
       "      <td>Burkina Faso</td>\n",
       "      <td>Arachide</td>\n",
       "      <td>tonne</td>\n",
       "      <td>1996</td>\n",
       "      <td>180 532</td>\n",
       "    </tr>\n",
       "    <tr>\n",
       "      <th>99</th>\n",
       "      <td>Production</td>\n",
       "      <td>Burkina Faso</td>\n",
       "      <td>Coton</td>\n",
       "      <td>tonne</td>\n",
       "      <td>1996</td>\n",
       "      <td>150 451</td>\n",
       "    </tr>\n",
       "    <tr>\n",
       "      <th>100</th>\n",
       "      <td>Production</td>\n",
       "      <td>Burkina Faso</td>\n",
       "      <td>Maïs</td>\n",
       "      <td>tonne</td>\n",
       "      <td>1996</td>\n",
       "      <td>212 493</td>\n",
       "    </tr>\n",
       "    <tr>\n",
       "      <th>101</th>\n",
       "      <td>Production</td>\n",
       "      <td>Burkina Faso</td>\n",
       "      <td>Mil</td>\n",
       "      <td>tonne</td>\n",
       "      <td>1996</td>\n",
       "      <td>733 704</td>\n",
       "    </tr>\n",
       "    <tr>\n",
       "      <th>102</th>\n",
       "      <td>Production</td>\n",
       "      <td>Burkina Faso</td>\n",
       "      <td>Niebé</td>\n",
       "      <td>tonne</td>\n",
       "      <td>1996</td>\n",
       "      <td>195 444</td>\n",
       "    </tr>\n",
       "    <tr>\n",
       "      <th>...</th>\n",
       "      <td>...</td>\n",
       "      <td>...</td>\n",
       "      <td>...</td>\n",
       "      <td>...</td>\n",
       "      <td>...</td>\n",
       "      <td>...</td>\n",
       "    </tr>\n",
       "    <tr>\n",
       "      <th>5284</th>\n",
       "      <td>Production</td>\n",
       "      <td>Sud-Ouest</td>\n",
       "      <td>Maïs</td>\n",
       "      <td>tonne</td>\n",
       "      <td>2022</td>\n",
       "      <td>177 579</td>\n",
       "    </tr>\n",
       "    <tr>\n",
       "      <th>5285</th>\n",
       "      <td>Production</td>\n",
       "      <td>Sud-Ouest</td>\n",
       "      <td>Mil</td>\n",
       "      <td>tonne</td>\n",
       "      <td>2022</td>\n",
       "      <td>26 502</td>\n",
       "    </tr>\n",
       "    <tr>\n",
       "      <th>5286</th>\n",
       "      <td>Production</td>\n",
       "      <td>Sud-Ouest</td>\n",
       "      <td>Niebé</td>\n",
       "      <td>tonne</td>\n",
       "      <td>2022</td>\n",
       "      <td>30 236</td>\n",
       "    </tr>\n",
       "    <tr>\n",
       "      <th>5287</th>\n",
       "      <td>Production</td>\n",
       "      <td>Sud-Ouest</td>\n",
       "      <td>Riz</td>\n",
       "      <td>tonne</td>\n",
       "      <td>2022</td>\n",
       "      <td>20 792</td>\n",
       "    </tr>\n",
       "    <tr>\n",
       "      <th>5288</th>\n",
       "      <td>Production</td>\n",
       "      <td>Sud-Ouest</td>\n",
       "      <td>Sorgho</td>\n",
       "      <td>tonne</td>\n",
       "      <td>2022</td>\n",
       "      <td>127 511</td>\n",
       "    </tr>\n",
       "  </tbody>\n",
       "</table>\n",
       "<p>2644 rows × 6 columns</p>\n",
       "</div>"
      ],
      "text/plain": [
       "      indicateur        région  céréales   Unit  Date Production\n",
       "98    Production  Burkina Faso  Arachide  tonne  1996    180 532\n",
       "99    Production  Burkina Faso     Coton  tonne  1996    150 451\n",
       "100   Production  Burkina Faso      Maïs  tonne  1996    212 493\n",
       "101   Production  Burkina Faso       Mil  tonne  1996    733 704\n",
       "102   Production  Burkina Faso     Niebé  tonne  1996    195 444\n",
       "...          ...           ...       ...    ...   ...        ...\n",
       "5284  Production     Sud-Ouest      Maïs  tonne  2022    177 579\n",
       "5285  Production     Sud-Ouest       Mil  tonne  2022     26 502\n",
       "5286  Production     Sud-Ouest     Niebé  tonne  2022     30 236\n",
       "5287  Production     Sud-Ouest       Riz  tonne  2022     20 792\n",
       "5288  Production     Sud-Ouest    Sorgho  tonne  2022    127 511\n",
       "\n",
       "[2644 rows x 6 columns]"
      ]
     },
     "execution_count": 77,
     "metadata": {},
     "output_type": "execute_result"
    }
   ],
   "source": [
    "df_Production"
   ]
  },
  {
   "cell_type": "code",
   "execution_count": 60,
   "id": "19f83a10-8830-4bcd-9892-7f304aa6276a",
   "metadata": {},
   "outputs": [],
   "source": [
    "df_Production = dfAll[dfAll[\"indicateur\"]==\"Production\"]\n",
    "df_Production = df_Production.rename(columns = {'Value':'Production'})"
   ]
  },
  {
   "cell_type": "code",
   "execution_count": 74,
   "id": "0d2d8ba7-68da-4a81-9450-b4ffbca495a8",
   "metadata": {},
   "outputs": [],
   "source": [
    "df_merge = dfAll[[\"région\",\"céréales\",\"Date\"]].drop_duplicates()"
   ]
  },
  {
   "cell_type": "code",
   "execution_count": 83,
   "id": "c632093d-fd3a-4bc5-9708-66eadd2ca132",
   "metadata": {},
   "outputs": [],
   "source": [
    "def getAllV(line):\n",
    "    try :\n",
    "        line[\"Superficie\"] = df_superficie[(df_superficie[\"région\"]==line[\"région\"]) & (df_superficie[\"céréales\"]==line[\"céréales\"]) & (df_superficie[\"Date\"]==line[\"Date\"])][\"Superficie\"].values.tolist()[0]\n",
    "    except :\n",
    "        print(\"Not found superficie value for \",line)\n",
    "        line[\"Superficie\"] = 0\n",
    "    # print(line[\"Superficie\"])\n",
    "    try:\n",
    "        line[\"Production\"] = df_Production[(df_Production[\"région\"]==line[\"région\"]) & (df_Production[\"céréales\"]==line[\"céréales\"]) & (df_Production[\"Date\"]==line[\"Date\"])][\"Production\"].values.tolist()[0]\n",
    "    except :\n",
    "        print(\"Not found Production value for \",line)\n",
    "        line[\"Production\"] = 0\n",
    "    try:\n",
    "        line[\"Pluie par année\"] = newDf[(newDf[\"région\"]==line[\"région\"]) & (newDf[\"Date\"]==line[\"Date\"])][\"Pluie par année\"].values.tolist()[0]\n",
    "    except :\n",
    "        print(\"Not found Pluie par année value for \",line)\n",
    "        line[\"Pluie par année\"] = 0\n",
    "    return line"
   ]
  },
  {
   "cell_type": "code",
   "execution_count": 84,
   "id": "a04c83f2-0349-45b1-b84a-993aaf0e4cf6",
   "metadata": {},
   "outputs": [
    {
     "name": "stdout",
     "output_type": "stream",
     "text": [
      "Not found Production value for  région        Sahel\n",
      "céréales      Coton\n",
      "Date           2011\n",
      "Superficie        0\n",
      "Name: 3024, dtype: object\n"
     ]
    }
   ],
   "source": [
    "df_merge = df_merge.apply(lambda l : getAllV(l),axis = 1)"
   ]
  },
  {
   "cell_type": "code",
   "execution_count": 87,
   "id": "8e367dfc-ea4b-4bcc-809f-65f641c37cac",
   "metadata": {},
   "outputs": [],
   "source": [
    "df_merge.to_csv(\"../data/all_cereal_merge.csv\")"
   ]
  },
  {
   "cell_type": "code",
   "execution_count": 97,
   "id": "cb5582a3-3451-4a76-9f48-ccadf27288c0",
   "metadata": {},
   "outputs": [
    {
     "data": {
      "text/plain": [
       "array(['Arachide', 'Coton', 'Maïs', 'Mil', 'Niebé', 'Riz', 'Sorgho'],\n",
       "      dtype=object)"
      ]
     },
     "execution_count": 97,
     "metadata": {},
     "output_type": "execute_result"
    }
   ],
   "source": [
    "df_merge[\"céréales\"].unique()"
   ]
  },
  {
   "cell_type": "code",
   "execution_count": 94,
   "id": "c867978e-ea35-402e-ad15-f7d1e241a3a6",
   "metadata": {},
   "outputs": [],
   "source": [
    "data = {'région': ['Burkina Faso',\n",
    "  'Boucle du Mouhoun',\n",
    "  'Cascades',\n",
    "  'Centre',\n",
    "  'Centre-Est',\n",
    "  'Centre-Nord',\n",
    "  'Centre-Ouest',\n",
    "  'Centre-Sud',\n",
    "  'Est',\n",
    "  'Hauts-Bassins',\n",
    "  'Nord',\n",
    "  'Plateau Central',\n",
    "  'Sahel',\n",
    "  'Sud-Ouest'],\n",
    " 'latitude': [12.0753083,\n",
    "  12.4777805,\n",
    "  10.30718125,\n",
    "  12.36732,\n",
    "  11.734933000000002,\n",
    "  13.238710000000001,\n",
    "  11.9067933,\n",
    "  11.5833646,\n",
    "  12.255555,\n",
    "  11.389027500000001,\n",
    "  13.45911,\n",
    "  12.40414,\n",
    "  14.0279165,\n",
    "  10.38692085],\n",
    " 'longitude': [-1.6880314,\n",
    "  -3.5879571310124456,\n",
    "  -4.435189320350396,\n",
    "  -1.5430869129979032,\n",
    "  -0.2921055677472593,\n",
    "  -1.0349831514084509,\n",
    "  -2.3044800659164646,\n",
    "  -1.0556300580745341,\n",
    "  1.0095763618883151,\n",
    "  -4.041364986476256,\n",
    "  -2.2496367403016495,\n",
    "  -0.8864160224616928,\n",
    "  -0.7717775666263393,\n",
    "  -3.283188627811005]}"
   ]
  },
  {
   "cell_type": "code",
   "execution_count": 96,
   "id": "028d0f81-f334-4962-b34d-443c2a700a4f",
   "metadata": {},
   "outputs": [],
   "source": [
    "pd.DataFrame.from_dict(data).to_csv(\"../data/region_long_lat.csv\")"
   ]
  },
  {
   "cell_type": "code",
   "execution_count": null,
   "id": "bce3ea63-3cae-4c78-a3dd-d38376551b55",
   "metadata": {},
   "outputs": [],
   "source": []
  }
 ],
 "metadata": {
  "kernelspec": {
   "display_name": "Python 3 (ipykernel)",
   "language": "python",
   "name": "python3"
  },
  "language_info": {
   "codemirror_mode": {
    "name": "ipython",
    "version": 3
   },
   "file_extension": ".py",
   "mimetype": "text/x-python",
   "name": "python",
   "nbconvert_exporter": "python",
   "pygments_lexer": "ipython3",
   "version": "3.11.10"
  }
 },
 "nbformat": 4,
 "nbformat_minor": 5
}
